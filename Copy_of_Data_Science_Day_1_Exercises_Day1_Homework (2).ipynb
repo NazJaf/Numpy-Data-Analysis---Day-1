{
  "cells": [
    {
      "cell_type": "markdown",
      "metadata": {
        "id": "KdERlTpFuL5V"
      },
      "source": [
        "# Exercises"
      ]
    },
    {
      "cell_type": "markdown",
      "metadata": {
        "id": "to-gsrQyuL5Z"
      },
      "source": [
        "### #1 - Calculate the BMI (body mass index) on the two lists below using NDArrays..."
      ]
    },
    {
      "cell_type": "code",
      "execution_count": 1,
      "metadata": {
        "id": "iZlf9DzeuL5a"
      },
      "outputs": [
        {
          "data": {
            "text/plain": [
              "array([16.86620458, 17.87755102, 18.82562984, 19.71450617, 20.54794521,\n",
              "       21.32943755, 22.06222222])"
            ]
          },
          "execution_count": 1,
          "metadata": {},
          "output_type": "execute_result"
        }
      ],
      "source": [
        "import numpy as np\n",
        "# formula = weight / (height**2) * 730\n",
        "height = [69, 70, 71, 72, 73, 74, 75]\n",
        "weight = [110, 120, 130, 140, 150, 160, 170]\n",
        "height_array=np.array(height)\n",
        "weight_array=np.array(weight)\n",
        "bmi=weight_array/(height_array**2)*730\n",
        "bmi\n"
      ]
    },
    {
      "cell_type": "markdown",
      "metadata": {
        "id": "RSsT8w8ouL5b"
      },
      "source": [
        "### #2 - Create a function that will take in two parameters and will create a random matrix based off of those parameters. Extra: Have additional parameters taken in that allow the user to choose the shape and data type of the matrix."
      ]
    },
    {
      "cell_type": "code",
      "execution_count": 5,
      "metadata": {
        "id": "ygFvj0aeuL5b"
      },
      "outputs": [
        {
          "name": "stdout",
          "output_type": "stream",
          "text": [
            "[[0 0 0 0 0 0 0]\n",
            " [0 0 0 0 0 0 0]\n",
            " [0 0 0 0 0 0 0]\n",
            " [0 0 0 0 0 0 0]\n",
            " [0 0 0 0 0 0 0]\n",
            " [0 0 0 0 0 0 0]]\n"
          ]
        }
      ],
      "source": [
        "\n",
        "def random_matrix(rows,cols,shape=None, dtype=float):\n",
        "    if shape:\n",
        "        matrix_shape=shape\n",
        "    else:\n",
        "        matrix_shape=(rows,cols)\n",
        "    random_matrix=np.random.rand(*matrix_shape).astype(dtype)\n",
        "    return random_matrix\n",
        "matrix=random_matrix(6,7,dtype=int)\n",
        "print(matrix)"
      ]
    },
    {
      "cell_type": "markdown",
      "metadata": {
        "id": "e5mP1UX9uL5c"
      },
      "source": [
        "### #3 - Extra: Open and load the data in the two text files that have the Boston Red Sox hitting data for the past seasons. Compare the difference in the two years by putting the data into an NDArray and running a differencial operation on it. The column to look for will be SLG.\n",
        "\n",
        "Your output should display which year (either 2017 or 2018) was a better year based on SLG"
      ]
    },
    {
      "cell_type": "code",
      "execution_count": 9,
      "metadata": {
        "id": "iAExC-SjuL5c"
      },
      "outputs": [
        {
          "name": "stdout",
          "output_type": "stream",
          "text": [
            "2017 was a better year based on SLG with an average SLG of 0.393 compared to 0.388 in 2018.\n"
          ]
        }
      ],
      "source": [
        "import numpy as np\n",
        "\n",
        "def load_data(file_path):\n",
        "    return np.genfromtxt(file_path, delimiter=',', dtype=None, encoding=None, names=True)\n",
        "\n",
        "def compare_slg(file_2017, file_2018):\n",
        "   \n",
        "    data_2017 = load_data(file_2017)\n",
        "    data_2018 = load_data(file_2018)\n",
        "\n",
        " \n",
        "    slg_2017 = data_2017['SLG']\n",
        "    slg_2018 = data_2018['SLG']\n",
        "\n",
        "\n",
        "    mean_slg_2017 = np.mean(slg_2017)\n",
        "    mean_slg_2018 = np.mean(slg_2018)\n",
        "\n",
        "    \n",
        "    if mean_slg_2018 > mean_slg_2017:\n",
        "        return f\"2018 was a better year based on SLG with an average SLG of {mean_slg_2018:.3f} compared to {mean_slg_2017:.3f} in 2017.\"\n",
        "    else:\n",
        "        return f\"2017 was a better year based on SLG with an average SLG of {mean_slg_2017:.3f} compared to {mean_slg_2018:.3f} in 2018.\"\n",
        "\n",
        "\n",
        "file_2017 = r\"C:\\Users\\Zaur\\OneDrive\\Desktop\\Disk\\2023Nazrin\\Bootcamp_coding temple\\Python Advanced\\Python advanced_task\\Numpy\\redsox_2017.txt\"\n",
        "file_2018 = r\"C:\\Users\\Zaur\\OneDrive\\Desktop\\Disk\\2023Nazrin\\Bootcamp_coding temple\\Python Advanced\\Python advanced_task\\Numpy\\redsox_2018.txt\"\n",
        "\n",
        "\n",
        "result = compare_slg(file_2017, file_2018)\n",
        "print(result)\n",
        "\n"
      ]
    },
    {
      "cell_type": "code",
      "execution_count": 16,
      "metadata": {
        "id": "P8Rwr8lmuL5e"
      },
      "outputs": [
        {
          "name": "stdout",
          "output_type": "stream",
          "text": [
            "[]\n"
          ]
        },
        {
          "name": "stderr",
          "output_type": "stream",
          "text": [
            "C:\\Users\\Zaur\\AppData\\Local\\Temp\\ipykernel_10216\\3123350519.py:12: UserWarning: genfromtxt: Empty input file: \"C:\\Users\\Zaur\\OneDrive\\Desktop\\sample.csv\"\n",
            "  data = np.genfromtxt(filename, delimiter=',', dtype=DATATYPES, names=FIELDS, skip_header=1)\n"
          ]
        }
      ],
      "source": [
        "import numpy as np\n",
        "FIELDS = ['Rk', 'Pos', 'Name', 'Age', 'G', 'PA', 'AB', 'R', 'H', '2B', '3B', 'HR', 'RBI', 'SB', 'CS', \n",
        "          'BB', 'SO', 'BA', 'OBP', 'SLG', 'OPS', 'OPS+', 'TB', 'GDP', 'HBP', 'SH', 'SF', 'IBB']\n",
        "\n",
        "DATATYPES = [('rk', 'i'), ('pos', '|S25'), ('name', '|S25'), ('age', 'i'), ('g', 'i'), ('pa', 'i'), ('ab', 'i'),\n",
        "                ('r', 'i'), ('h', 'i'), ('2b', 'i'), ('3b', 'i'), ('hr', 'i'), ('rbi', 'i'), ('sb', 'i'), ('cs', 'i'),\n",
        "                ('bb', 'i'), ('so', 'i'), ('ba', 'f'), ('obp', 'f'), ('slg', 'f'), ('ops', 'f'), ('opsp', 'i'),\n",
        "                ('tb', 'i'), ('gdp', 'i'), ('hbp', 'i'), ('sh', 'i'), ('sf', 'i'), ('ibb', 'i')]\n",
        "\n",
        "#Use this function to actually open the data inside of a NDArray\n",
        "filename = r\"C:\\Users\\Zaur\\OneDrive\\Desktop\\sample.csv\"\n",
        "data = np.genfromtxt(filename, delimiter=',', dtype=DATATYPES, names=FIELDS, skip_header=1)\n",
        "\n",
        "\n",
        "print(data['Name'])\n",
        "\n"
      ]
    }
  ],
  "metadata": {
    "colab": {
      "name": "Copy of Data_Science_Day_1_Exercises-Day1- Homework.ipynb",
      "provenance": []
    },
    "kernelspec": {
      "display_name": "Python 3",
      "language": "python",
      "name": "python3"
    },
    "language_info": {
      "codemirror_mode": {
        "name": "ipython",
        "version": 3
      },
      "file_extension": ".py",
      "mimetype": "text/x-python",
      "name": "python",
      "nbconvert_exporter": "python",
      "pygments_lexer": "ipython3",
      "version": "3.9.13"
    }
  },
  "nbformat": 4,
  "nbformat_minor": 0
}
